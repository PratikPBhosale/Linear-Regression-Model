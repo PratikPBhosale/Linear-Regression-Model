{
 "cells": [
  {
   "cell_type": "code",
   "execution_count": 1,
   "id": "4438cd68-8091-498d-8caa-2115848726b2",
   "metadata": {},
   "outputs": [],
   "source": [
    "import numpy as np\n",
    "import pandas as pd\n",
    "\n",
    "np.random.seed(42)\n",
    "\n",
    "num_samples = 5000000  \n",
    "\n",
    "turnover = 5000\n",
    "\n",
    "average_price = np.random.uniform(500, 3000, num_samples)  \n",
    "advertising_expenditure = np.random.uniform(1000000000, 4000000000, num_samples)  \n",
    "website_traffic = np.random.randint(2000, 10000, num_samples) \n",
    "customer_retention = np.random.uniform(0.5, 1, num_samples) \n",
    "average_order_value = np.random.uniform(1000, 6000, num_samples)  \n",
    "seasonality = np.random.uniform(0.7, 0.9, num_samples) \n",
    "regular_customer_value = np.random.uniform(20000, 100000, num_samples)\n",
    "\n",
    "months = np.arange(1, num_samples + 1)\n",
    "seasonal_demand_factor = 0.5 * np.sin(2 * np.pi * months / 12) + 1\n",
    "\n",
    "discount_offer = np.random.choice([0, 1], size=num_samples, p=[0.8, 0.2])\n",
    "\n",
    "net_revenue = (\n",
    "    (average_price * average_order_value * website_traffic * (customer_retention / 100)) -\n",
    "    (advertising_expenditure * 0.2) +\n",
    "    (regular_customer_value * 0.1) +\n",
    "    (seasonality * 1000)\n",
    ") * turnover\n",
    "\n",
    "data = pd.DataFrame({\n",
    "    'Average_Price': average_price,\n",
    "    'Advertising_Expenditure': advertising_expenditure,\n",
    "    'Website_Traffic': website_traffic,\n",
    "    'Customer_Retention': customer_retention,\n",
    "    'Average_Order_Value': average_order_value,\n",
    "    'Seasonality': seasonality,\n",
    "    'Regular_Customer_Value': regular_customer_value,\n",
    "    'Seasonal_Demand_Factor': seasonal_demand_factor,\n",
    "    'Discount_Offer': discount_offer,\n",
    "    'Total_Revenue': total_revenue,\n",
    "    'Net_Revenue': net_revenue  \n",
    "})\n",
    "\n",
    "data.to_csv('ecommerce_sales_data.csv', index=False)"
   ]
  },
  {
   "cell_type": "code",
   "execution_count": 2,
   "id": "0b916bab-b3a1-4afd-b4fe-a0f5e7d2c1ca",
   "metadata": {
    "scrolled": true
   },
   "outputs": [
    {
     "name": "stdout",
     "output_type": "stream",
     "text": [
      "R-squared: 0.9997489294232896\n",
      "Mean Absolute Error: 9785030993.04751\n",
      "Root Mean Squared Error: 17384961525.844482\n"
     ]
    },
    {
     "name": "stderr",
     "output_type": "stream",
     "text": [
      "C:\\Users\\Admin\\AppData\\Local\\Programs\\Python\\Python312\\Lib\\site-packages\\sklearn\\metrics\\_regression.py:483: FutureWarning: 'squared' is deprecated in version 1.4 and will be removed in 1.6. To calculate the root mean squared error, use the function'root_mean_squared_error'.\n",
      "  warnings.warn(\n"
     ]
    }
   ],
   "source": [
    "import pandas as pd\n",
    "from sklearn.model_selection import train_test_split\n",
    "from sklearn.preprocessing import StandardScaler\n",
    "from sklearn.pipeline import make_pipeline\n",
    "from sklearn.preprocessing import PolynomialFeatures\n",
    "from sklearn.linear_model import LinearRegression\n",
    "from sklearn.metrics import mean_squared_error, mean_absolute_error, r2_score\n",
    "\n",
    "data = pd.read_csv('ecommerce_sales_data.csv')\n",
    "\n",
    "features = data[['Average_Price', 'Advertising_Expenditure', 'Website_Traffic', \n",
    "                 'Customer_Retention', 'Average_Order_Value', 'Seasonality', \n",
    "                 'Regular_Customer_Value', 'Seasonal_Demand_Factor', 'Discount_Offer']]\n",
    "target = data['Net_Revenue']\n",
    "\n",
    "X_train, X_test, y_train, y_test = train_test_split(features, target, test_size=0.2, random_state=42)\n",
    "\n",
    "model = make_pipeline(\n",
    "    PolynomialFeatures(degree=3, interaction_only=True, include_bias=False),\n",
    "    StandardScaler(),\n",
    "    LinearRegression()\n",
    ")\n",
    "\n",
    "model.fit(X_train, y_train)\n",
    "\n",
    "y_pred = model.predict(X_test)\n",
    "\n",
    "r2 = r2_score(y_test, y_pred)\n",
    "mae = mean_absolute_error(y_test, y_pred)\n",
    "rmse = mean_squared_error(y_test, y_pred, squared=False)\n",
    "\n",
    "print(f'R-squared: {r2}')\n",
    "print(f'Mean Absolute Error: {mae}')\n",
    "print(f'Root Mean Squared Error: {rmse}')\n",
    "with open('linear_regression_model.pkl', 'wb') as file:\n",
    "    pickle.dump(model, file)\n",
    "\n",
    "with open('linear_regression_model.pkl', 'rb') as file:\n",
    "    loaded_model = pickle.load(file)"
   ]
  },
  {
   "cell_type": "code",
   "execution_count": null,
   "id": "7a68c8ef-e096-4bff-8439-800f2291ecc7",
   "metadata": {},
   "outputs": [],
   "source": []
  },
  {
   "cell_type": "code",
   "execution_count": 1,
   "id": "9632c2d3-9670-4e2d-9968-696ebdc2d602",
   "metadata": {},
   "outputs": [
    {
     "ename": "NameError",
     "evalue": "name 'model' is not defined",
     "output_type": "error",
     "traceback": [
      "\u001b[1;31m---------------------------------------------------------------------------\u001b[0m",
      "\u001b[1;31mNameError\u001b[0m                                 Traceback (most recent call last)",
      "Cell \u001b[1;32mIn[1], line 5\u001b[0m\n\u001b[0;32m      2\u001b[0m \u001b[38;5;28;01mimport\u001b[39;00m \u001b[38;5;21;01mpandas\u001b[39;00m \u001b[38;5;28;01mas\u001b[39;00m \u001b[38;5;21;01mpd\u001b[39;00m\n\u001b[0;32m      4\u001b[0m \u001b[38;5;28;01mwith\u001b[39;00m \u001b[38;5;28mopen\u001b[39m(\u001b[38;5;124m'\u001b[39m\u001b[38;5;124mlinear_regression_model.pkl\u001b[39m\u001b[38;5;124m'\u001b[39m, \u001b[38;5;124m'\u001b[39m\u001b[38;5;124mwb\u001b[39m\u001b[38;5;124m'\u001b[39m) \u001b[38;5;28;01mas\u001b[39;00m file:\n\u001b[1;32m----> 5\u001b[0m     pickle\u001b[38;5;241m.\u001b[39mdump(\u001b[43mmodel\u001b[49m, file)\n\u001b[0;32m      7\u001b[0m \u001b[38;5;28;01mwith\u001b[39;00m \u001b[38;5;28mopen\u001b[39m(\u001b[38;5;124m'\u001b[39m\u001b[38;5;124mlinear_regression_model.pkl\u001b[39m\u001b[38;5;124m'\u001b[39m, \u001b[38;5;124m'\u001b[39m\u001b[38;5;124mrb\u001b[39m\u001b[38;5;124m'\u001b[39m) \u001b[38;5;28;01mas\u001b[39;00m file:\n\u001b[0;32m      8\u001b[0m     loaded_model \u001b[38;5;241m=\u001b[39m pickle\u001b[38;5;241m.\u001b[39mload(file)\n",
      "\u001b[1;31mNameError\u001b[0m: name 'model' is not defined"
     ]
    }
   ],
   "source": [
    "import pickle\n",
    "import pandas as pd\n",
    "\n",
    "c\n",
    "\n",
    "input_data = pd.read_csv('input_data.csv')\n",
    "\n",
    "predicted_net_revenue = loaded_model.predict(input_data)\n",
    "\n",
    "input_data['Predicted_Net_Revenue'] = predicted_net_revenue\n",
    "\n",
    "print(input_data)"
   ]
  },
  {
   "cell_type": "code",
   "execution_count": null,
   "id": "1637b2e7-f457-4a91-8c0e-45dc3a11e180",
   "metadata": {},
   "outputs": [],
   "source": []
  }
 ],
 "metadata": {
  "kernelspec": {
   "display_name": "Python 3 (ipykernel)",
   "language": "python",
   "name": "python3"
  },
  "language_info": {
   "codemirror_mode": {
    "name": "ipython",
    "version": 3
   },
   "file_extension": ".py",
   "mimetype": "text/x-python",
   "name": "python",
   "nbconvert_exporter": "python",
   "pygments_lexer": "ipython3",
   "version": "3.12.1"
  }
 },
 "nbformat": 4,
 "nbformat_minor": 5
}
